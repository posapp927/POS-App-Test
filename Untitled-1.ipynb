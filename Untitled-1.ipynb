{
 "cells": [
  {
   "cell_type": "code",
   "execution_count": null,
   "metadata": {},
   "outputs": [],
   "source": [
    "from bs4 import BeautifulSoup\n",
    "import pandas as pd\n",
    "\n",
    "# Load the HTML file\n",
    "file_path = \"C:\\\\Users\\\\fulfi\\\\OneDrive\\\\Documents\\\\pfx.html\"\n",
    "\n",
    "with open(file_path, 'r', encoding='utf-8') as file:\n",
    "    html_content = file.read()\n",
    "\n",
    "# Parse the HTML content using BeautifulSoup\n",
    "soup = BeautifulSoup(html_content, 'html.parser')\n",
    "\n",
    "# Extract relevant data\n",
    "data = []\n",
    "products = soup.select('.pf-list-item')\n",
    "\n",
    "for product in products:\n",
    "    title = product.select_one('.pf-list-title').text.strip()\n",
    "    link = product.select_one('.pf-list-title')['href']\n",
    "    price = product.select_one('.pf-list-price').text.strip()\n",
    "    item_number = product.select_one('[data-test-selector=\"productNumber\"]').text.strip()\n",
    "    upc = product.select_one('.upc-numbers').text.replace('UPC#: ', '').strip()\n",
    "    \n",
    "    data.append({\n",
    "        'Title': title,\n",
    "        'Link': link,\n",
    "        'Price': price,\n",
    "        'Item Number': item_number,\n",
    "        'UPC': upc\n",
    "    })\n",
    "\n",
    "# Create a DataFrame\n",
    "df = pd.DataFrame(data)\n",
    "\n",
    "# Save to CSV\n",
    "csv_file_path = 'C:\\\\Users\\\\fulfi\\\\OneDrive\\\\Documents\\\\extracted_product_data.csv'\n",
    "df.to_csv(csv_file_path, index=False)\n",
    "\n",
    "csv_file_path\n"
   ]
  }
 ],
 "metadata": {
  "kernelspec": {
   "display_name": "Python 3",
   "language": "python",
   "name": "python3"
  },
  "language_info": {
   "name": "python",
   "version": "3.12.5"
  }
 },
 "nbformat": 4,
 "nbformat_minor": 2
}
